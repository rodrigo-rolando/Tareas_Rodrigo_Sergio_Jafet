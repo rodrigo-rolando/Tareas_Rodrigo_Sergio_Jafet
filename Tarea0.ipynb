{
 "cells": [
  {
   "cell_type": "markdown",
   "metadata": {},
   "source": [
    "### Tarea 0 Seminario de Estadística I\n",
    "\n",
    "\n",
    "Equipo:\n",
    "\n",
    "Rodrigo Rolando Brigido Rivera\n",
    "\n",
    "Sergio Antonio Murillo Hernández\n",
    "\n",
    "Gustavo Jafet Flores Lozornio\n"
   ]
  },
  {
   "cell_type": "markdown",
   "metadata": {},
   "source": [
    "####  Complejidad Computacional Notación O(n) (asymptotic upper bound)"
   ]
  },
  {
   "cell_type": "markdown",
   "metadata": {},
   "source": [
    "Demuestre lo siguiente\n",
    "\n",
    "1. Si $f_1$ es $O(g_1)$ y $f_2$ es $O(g_2)$ entonces $(f_1+f_2)$ es $O(max{|g_1|,|g_2|})$\n",
    "2. Si $f_1$ es $O(g_1)$ y $f_2$ es $O(g_2)$ entonces $(f_1f_2)$ es $O(g_1g_2)$\n",
    "3. ¿Cuál es la complejidad del siguiente algoritmo(O)?\n",
    "\n",
    "for (i = 0; i < N; i++) {\n",
    "\n",
    "    for (j = 0; j < M; j++) {\n",
    "        print(i,j)\n",
    "    }\n",
    "\n",
    "}\n"
   ]
  },
  {
   "cell_type": "markdown",
   "metadata": {},
   "source": [
    "## 1.\n",
    "i $f_1$ es $O(g_1)$ y $f_2$ es $O(g_2)$ entonces $(f_1+f_2)$ es $O(max{|g_1|,|g_2|})$\n",
    "\n",
    "## R:\n",
    " Como $f_1$  es $O(g_1)$, entonces $\\exists c,n_0 > 0$ ctes tales que $0\\leq f_1 \\leq cg_1$ $\\forall n \\geq n_0$ , analogamente para $f_2$ $\\exists k,m_0 > 0$ ctes tales que $0\\leq f_2 \\leq kg_2$ $\\forall m \\geq m_0$. Así sumando las desigualdades se tiene $0 \\leq f_1 +f_2 \\leq cg_1 + kg_2$, la cual es cierta debido a las hipotesis. Además $g_i \\leq |g_i|$, como $c,k >0$, entonces $0 \\leq f_1 +f_2 \\leq c|g_1| + k|g_2|$, sea $g=max\\{|g_1|, |g_2|\\}$, entonces $0 \\leq f_1 +f_2 \\leq cg + kg$\n",
    " , esto es valido para toda $n' \\geq n_0'=max\\{n_0,m_0\\}>0$, definimos $c'=c+k >0$, de modo que para $f_1 +f_2$ $\\exists n_0', c' >0$ ctes tales que $0 \\leq f_1 +f_2 \\leq c' max\\{ |g_1|, |g_2|\\}$, Así $f_1 + f_2$ es $O(max\\{|g_1|, |g_2| \\})$"
   ]
  },
  {
   "cell_type": "markdown",
   "metadata": {},
   "source": [
    "## 2.\n",
    "Si $f_1$ es $O(g_1)$ y $f_2$ es $O(g_2)$ entonces $(f_1f_2)$ es $O(g_1g_2)$\n",
    "\n",
    "### R:\n",
    "sea $h(n) \\in O(f(n))$. Esto es que existe un $n_{1},m_{1}$ tal que $n>n_{1}$,$h(n)<m_{1}\\cdot f(n)$.\n",
    "\n",
    "y sea $j(n) \\in O(g(n))$. Esto es que existe un $n_{2},m_{2}$ tal que $n>n_{2}$,$j(n)<m_{2}\\cdot g(n)$.\n",
    "\n",
    "Tomando $n'=max\\{n_{1},n_{2}\\}$ y $m=m_{1}\\cdot m_{2}$, entoces.\n",
    "$h(n)j(n)<m\\cdot f(n)g(n)$\n",
    "\n",
    "por lo tanto\n",
    "\n",
    "$h(n)j(n) \\in O(f(n)g(n))$\n"
   ]
  },
  {
   "cell_type": "markdown",
   "metadata": {},
   "source": [
    "## 3.\n",
    "\n",
    "3. ¿Cuál es la complejidad del siguiente algoritmo(O)?\n",
    "\n",
    "for (i = 0; i < N; i++) {\n",
    "\n",
    "    for (j = 0; j < M; j++) {\n",
    "        print(i,j)\n",
    "    }\n",
    "\n",
    "}\n",
    "\n",
    "## R:\n",
    "La complejidad de este algoritmo es $O(M\\cdot N)$\n",
    "\n",
    "\n"
   ]
  },
  {
   "cell_type": "markdown",
   "metadata": {},
   "source": [
    "### Estadística Descriptiva"
   ]
  },
  {
   "cell_type": "markdown",
   "metadata": {},
   "source": [
    "1. Demuestre $-1 \\leq r_{XY}\\leq 1$ donde:\n",
    "$$\n",
    "r_{XY}=\\dfrac{\\sum_{i=1}^n(x_i-\\bar{x})(y_i-\\bar{y})}{\\sqrt{\\sum_{i=1}^n(x_i-\\bar{x})^2\\sum_{i=1}^n(y_i-\\bar{y})^2}}\n",
    "$$\n",
    "\n",
    "2. Demuestre que $|r_{XY} | = 1$ si y solo si existen una relación lineal entre las variables X y Y , es decir, $y_i = \\alpha + \\beta x_i  $ con $\\beta \\neq  0$"
   ]
  },
  {
   "cell_type": "markdown",
   "metadata": {},
   "source": [
    "## 1. \n",
    "\n",
    "Demuestre $-1 \\leq r_{XY}\\leq 1$ donde:\n",
    "$$\n",
    "r_{XY}=\\dfrac{\\sum_{i=1}^n(x_i-\\bar{x})(y_i-\\bar{y})}{\\sqrt{\\sum_{i=1}^n(x_i-\\bar{x})^2\\sum_{i=1}^n(y_i-\\bar{y})^2}}\n",
    "$$\n",
    "\n",
    "### R:\n",
    "Recordando la desigualdad de Cauchy-Schwarz aplicada a la teoría de probabilidad nos deja con la desigualdad de la covarianza es decir \n",
    "\n",
    "$|Cov(X,Y)|^{2}\\leq Var(X)Var(Y)$\n",
    "\n",
    " entonces podemos tomar, $|Cov(X,Y)|\\leq \\sqrt{Var(X)Var(Y)}$ y tomando $|r_{XY}|$ podemos llegar a :\n",
    " \n",
    "$|\\frac{Cov(X,Y)}{\\sqrt{Var(x)Var(Y)}}|\\leq \\frac{\\sqrt{Var(X)Var(Y)}}{\\sqrt{Var(X)Var(Y)}}$\n",
    "\n",
    "esto es:\n",
    "\n",
    "$|\\frac{Cov(X,Y)}{\\sqrt{Var(x)Var(Y)}}|\\leq 1$\n",
    "\n",
    "o bien:\n",
    "\n",
    "$-1\\leq\\frac{Cov(X,Y)}{\\sqrt{Var(x)Var(Y)}}\\leq 1$"
   ]
  },
  {
   "cell_type": "markdown",
   "metadata": {},
   "source": [
    "## 2.\n",
    "Demuestre que $|r_{XY} | = 1$ si y solo si existen una relación lineal entre las variables X y Y , es decir, $y_i = \\alpha + \\beta x_i  $ con $\\beta \\neq  0$\n",
    "\n",
    "## R:\n",
    "\n",
    "Primero veamos quien es $\\bar{y}$, $\\bar{y}=\\frac{1}{n} \\displaystyle \\sum_{i=1}^n y_i =\\frac{1}{n} \\displaystyle \\sum_{i=1}^n (\\alpha + \\beta x_i)= \\alpha \\frac{1}{n} \\displaystyle \\sum_{1=1}^n 1 + \\beta \\frac{1}{n} \\displaystyle \\sum_{1=1}^n x_i = \\alpha + \\beta \\bar{x}$\n",
    "\n",
    "Entonces $r_{XY}= \\frac{ \\displaystyle \\sum_{i=1}^n (x_i - \\bar{x})(\\alpha + \\beta x_i - \\alpha -\\beta \\bar{x} )}{ \\sqrt{ \\displaystyle \\sum_{i=1}^n (x_i -\\bar{x})^2  \\displaystyle \\sum_{i=1}^n   (\\alpha + \\beta x_i - \\alpha -\\beta \\bar{x} )^2       }        } = \\frac{ \\beta \\displaystyle \\sum_{i=1}^n (x_i -\\bar{x_i})(x_i -\\bar{x_i})}{ \\sqrt{ \\beta^2 \\displaystyle \\sum_{i=1}^n (x_i - \\bar{x})^2 \\displaystyle \\sum_{i=1}^n (x_i - \\bar{x})^2 }}= \\frac{ \\beta \\displaystyle \\sum_{i=1}^n (x_i -\\bar{x})^2  }{ \\sqrt{ \\bigg( \\beta \\displaystyle \\sum_{i=1}^n (x_i - \\bar{x})^2 \\bigg)^2  }  }= \\frac{\\beta \\displaystyle \\sum_{i=1}^n (x_i -\\bar{x})^2  }{\\bigg| \\beta \\displaystyle \\sum_{i=1}^n (x_i -\\bar{x})^2  \\bigg|}= \\pm 1$ \n",
    "\n",
    "De este modo $|r_{XY}|=1$"
   ]
  },
  {
   "cell_type": "markdown",
   "metadata": {},
   "source": [
    "# Ejercicio 3\n",
    "\n",
    "Las calificaciones de 50 alumnos en Estadística han sido las siguientes:"
   ]
  },
  {
   "cell_type": "code",
   "execution_count": 92,
   "metadata": {},
   "outputs": [],
   "source": [
    "calif=[0, 1, 2, 2, 3, 3, 3, 4, 4, 4, 4, 4, 4, 5, 5, 5, 5, 5, 5, 5, 5, 5, 5, 5, 6,\n",
    "6, 6, 6, 6, 6, 6, 6, 6, 6, 6, 6, 7, 7, 7, 7, 7, 7, 7, 8, 8, 8, 8, 9, 9, 10]"
   ]
  },
  {
   "cell_type": "markdown",
   "metadata": {},
   "source": [
    "1. Calcular las medidas de tendencia central y de dispersión, ademas encuentre el Percentil 0.25 y 0.75 y elabore un gráfico de caja y brazos e histograma.\n",
    "2. ¿Los distribución de estos datos es Sesgada a la Izquierda?"
   ]
  },
  {
   "cell_type": "markdown",
   "metadata": {},
   "source": [
    "## 1."
   ]
  },
  {
   "cell_type": "code",
   "execution_count": 93,
   "metadata": {},
   "outputs": [],
   "source": [
    "import numpy as np\n",
    "from scipy import stats\n",
    "\n",
    "def medidas_tendencia(datos):                    ##Definimos una funcion que nos dara las medidas de tendencia central\n",
    "    print(\"Media=\" + str(np.mean(datos)))\n",
    "    print(\"Mediana=\" + str(np.median(datos)))\n",
    "    print(\"Moda=\" + str(stats.mode(datos)[0][0]))\n",
    "    \n",
    "def medidas_dispersion(datos):                  ###Definimos una funcion que nos dara las medidas de dispersion\n",
    "    print(\"varianza=\" + str(np.var(datos)))\n",
    "    print(\"Desviación estandar=\" + str(np.std(datos)))\n",
    "    print(\"Desviación media=\" + str((1/len(datos))*sum(abs(datos-np.mean(datos)))))\n",
    "    print(\"Rango=\" + str( max(datos)- min(datos)))\n",
    "    print(\"Coeficiente de variación=\" + str(np.std(datos)/np.mean(datos) ))"
   ]
  },
  {
   "cell_type": "code",
   "execution_count": 94,
   "metadata": {},
   "outputs": [
    {
     "name": "stdout",
     "output_type": "stream",
     "text": [
      "Media=5.48\n",
      "Mediana=6.0\n",
      "Moda=6\n"
     ]
    }
   ],
   "source": [
    "medidas_tendencia(calif)  ##Corremos la función de medidas de tendencia"
   ]
  },
  {
   "cell_type": "code",
   "execution_count": 95,
   "metadata": {},
   "outputs": [
    {
     "name": "stdout",
     "output_type": "stream",
     "text": [
      "varianza=3.9696\n",
      "Desviación estandar=1.9923855048659633\n",
      "Desviación media=1.540799999999999\n",
      "Rango=10\n",
      "Coeficiente de variación=0.36357399723831446\n"
     ]
    }
   ],
   "source": [
    "medidas_dispersion(calif)   ##Corremos la función de medidas de dispersión"
   ]
  },
  {
   "cell_type": "code",
   "execution_count": 96,
   "metadata": {},
   "outputs": [
    {
     "name": "stdout",
     "output_type": "stream",
     "text": [
      "Percentil 0.25=4.25\n",
      "Percentil 0.75=7.0\n"
     ]
    }
   ],
   "source": [
    "print(\"Percentil 0.25=\" + str(np.percentile(calif,25)))   ##SE calculan los percentiles que corresponden a .25 y .75 de prob\n",
    "print(\"Percentil 0.75=\" + str(np.percentile(calif,75)))"
   ]
  },
  {
   "cell_type": "code",
   "execution_count": 97,
   "metadata": {},
   "outputs": [
    {
     "data": {
      "image/png": "[encoded data removed]",
      "text/plain": [
       "<Figure size 432x288 with 1 Axes>"
      ]
     },
     "metadata": {
      "needs_background": "light"
     },
     "output_type": "display_data"
    }
   ],
   "source": [
    "import matplotlib.pyplot as plt     \n",
    "plt.boxplot(calif)    ##Se hace el grpafico de caja\n",
    "plt.show()\n"
   ]
  },
  {
   "cell_type": "code",
   "execution_count": 98,
   "metadata": {},
   "outputs": [
    {
     "data": {
      "text/plain": [
       "6.643856189774724"
      ]
     },
     "execution_count": 98,
     "metadata": {},
     "output_type": "execute_result"
    }
   ],
   "source": [
    "1+ np.log(len(calif))/np.log(2)       ##Se calcula el numero de clases del histograma"
   ]
  },
  {
   "cell_type": "code",
   "execution_count": 99,
   "metadata": {},
   "outputs": [
    {
     "data": {
      "text/plain": [
       "(array([ 2.,  2.,  9., 11., 19.,  4.,  3.]),\n",
       " array([ 0.        ,  1.42857143,  2.85714286,  4.28571429,  5.71428571,\n",
       "         7.14285714,  8.57142857, 10.        ]),\n",
       " <a list of 7 Patch objects>)"
      ]
     },
     "execution_count": 99,
     "metadata": {},
     "output_type": "execute_result"
    },
    {
     "data": {
      "image/png": "[encoded data removed]",
      "text/plain": [
       "<Figure size 432x288 with 1 Axes>"
      ]
     },
     "metadata": {
      "needs_background": "light"
     },
     "output_type": "display_data"
    }
   ],
   "source": [
    "plt.hist(calif, bins=7)    ##Se plotea el histograma con el numero de clases correspondiente"
   ]
  },
  {
   "cell_type": "markdown",
   "metadata": {},
   "source": [
    "## 2."
   ]
  },
  {
   "cell_type": "code",
   "execution_count": 100,
   "metadata": {},
   "outputs": [
    {
     "name": "stdout",
     "output_type": "stream",
     "text": [
      "-0.342246184028854\n"
     ]
    }
   ],
   "source": [
    "print(stats.skew(calif))  ##SE calcula la asimetria"
   ]
  },
  {
   "cell_type": "markdown",
   "metadata": {},
   "source": [
    "Con simetría negativa, decimos que los datos están segados a la derecha."
   ]
  },
  {
   "cell_type": "markdown",
   "metadata": {},
   "source": [
    "# Ejercicio 4\n",
    "\n",
    "Los 40 alumnos de una clase han obtenido las siguientes puntuaciones, sobre 50, en un\n",
    "examen de Física."
   ]
  },
  {
   "cell_type": "code",
   "execution_count": 101,
   "metadata": {},
   "outputs": [],
   "source": [
    "califfisica=[48, 47, 44, 42, 41, 39, 39, 38, 38, 38, 37, 36, 36, 35, 35, 34, 34, 34, 33,\n",
    "32, 32, 31, 29, 28, 28, 27, 26, 25, 24, 23, 22, 20, 17, 15, 15, 13, 13, 11, 7, 3]"
   ]
  },
  {
   "cell_type": "markdown",
   "metadata": {},
   "source": [
    "1. Calcular las medidas de tendencia central y de dispersi ́on, ademas encuentre el Cuartil 1 y 3 así como los Deciles 1 y 9. Elabore un gráfico de caja y brazos, así como el gráfico de distribución empírica.\n",
    "2. ¿ Los datos tiene una distribuci ́on platicurtica?"
   ]
  },
  {
   "cell_type": "code",
   "execution_count": 102,
   "metadata": {},
   "outputs": [
    {
     "name": "stdout",
     "output_type": "stream",
     "text": [
      "Media=29.225\n",
      "Mediana=32.0\n",
      "Moda=34\n"
     ]
    }
   ],
   "source": [
    "medidas_tendencia(califfisica)   ##SE corre de nuevo la funcion de medidas de tendencia"
   ]
  },
  {
   "cell_type": "code",
   "execution_count": 103,
   "metadata": {},
   "outputs": [
    {
     "name": "stdout",
     "output_type": "stream",
     "text": [
      "varianza=3.9696\n",
      "Desviación estandar=1.9923855048659633\n",
      "Desviación media=1.540799999999999\n",
      "Rango=10\n",
      "Coeficiente de variación=0.36357399723831446\n"
     ]
    }
   ],
   "source": [
    "medidas_dispersion(calif)  ##Funcion de medidad de dispersion"
   ]
  },
  {
   "cell_type": "code",
   "execution_count": 104,
   "metadata": {},
   "outputs": [
    {
     "name": "stdout",
     "output_type": "stream",
     "text": [
      "Cuartil 1=4.25\n",
      "Cuartil 3=7.0\n",
      "Decil 1=3.0\n",
      "Decil 3=8.0\n"
     ]
    }
   ],
   "source": [
    "print(\"Cuartil 1=\" + str(np.percentile(calif,25)))  ##SE calculan el priemr y tercer cuartil, corresponden a .25 y .75 de prob\n",
    "print(\"Cuartil 3=\" + str(np.percentile(calif,75)))\n",
    "print(\"Decil 1=\" + str(np.percentile(calif,10)))   ##SE calculan el primer y noveno decil, corresponden a .10 y ,90 de prob\n",
    "print(\"Decil 3=\" + str(np.percentile(calif,90)))"
   ]
  },
  {
   "cell_type": "code",
   "execution_count": 105,
   "metadata": {},
   "outputs": [
    {
     "data": {
      "image/png": "[encoded data removed]",
      "text/plain": [
       "<Figure size 432x288 with 1 Axes>"
      ]
     },
     "metadata": {
      "needs_background": "light"
     },
     "output_type": "display_data"
    }
   ],
   "source": [
    "plt.boxplot(califfisica) ##Se plotea la grafica de caja\n",
    "plt.show()"
   ]
  },
  {
   "cell_type": "code",
   "execution_count": 106,
   "metadata": {},
   "outputs": [
    {
     "data": {
      "text/plain": [
       "6.321928094887363"
      ]
     },
     "execution_count": 106,
     "metadata": {},
     "output_type": "execute_result"
    }
   ],
   "source": [
    "1+ np.log(len(califfisica))/np.log(2)   ##Se calcula el numero de clases para el histograma"
   ]
  },
  {
   "cell_type": "code",
   "execution_count": 107,
   "metadata": {},
   "outputs": [
    {
     "data": {
      "text/plain": [
       "(array([ 2.,  6.,  5.,  8., 14.,  5.]),\n",
       " array([ 3. , 10.5, 18. , 25.5, 33. , 40.5, 48. ]),\n",
       " <a list of 6 Patch objects>)"
      ]
     },
     "execution_count": 107,
     "metadata": {},
     "output_type": "execute_result"
    },
    {
     "data": {
      "image/png": "[encoded data removed]",
      "text/plain": [
       "<Figure size 432x288 with 1 Axes>"
      ]
     },
     "metadata": {
      "needs_background": "light"
     },
     "output_type": "display_data"
    }
   ],
   "source": [
    "plt.hist(califfisica,bins=6)"
   ]
  },
  {
   "cell_type": "code",
   "execution_count": 108,
   "metadata": {},
   "outputs": [],
   "source": [
    "Datos_sin_repetir=[]  ##Lista para los datos quitando las repeticones\n",
    "Repeticiones=[]       ##lista con las repeticones de cada elemento \n",
    "\n",
    "f=np.sort(califfisica)  ##Se ordena la lista de menor a mayor\n",
    "\n",
    "for x in f:\n",
    "    contador=0    ##Variable de apoyo para contar las repeticiones de un elemtno\n",
    "    for y in f:  ##Segundo for para comparar un valor de la lista y ver cuantas vces se repite\n",
    "        if x==y:   ##Condicion para saber si se repite\n",
    "            contador+=1   ##Si se repite el contador suma 1\n",
    "        else:\n",
    "            continue    \n",
    "    \n",
    "    if x in Datos_sin_repetir:   ##evisamos que el valor de la lista, no este##\n",
    "                                        ##ya dentro de la nueva lista que no tiene repetiones##\n",
    "        continue    ###Si este dentro, se continua\n",
    "    else: \n",
    "        Datos_sin_repetir.append(x)    ###Si no esta dentro, se agrega\n",
    "        \n",
    "    Repeticiones.append(contador)   ##Se agregan el núemro de repeticiones a la lista qye las cuenta\n",
    "\n",
    "\n"
   ]
  },
  {
   "cell_type": "code",
   "execution_count": 109,
   "metadata": {},
   "outputs": [],
   "source": [
    "Densidad=[]     ##Aquí se agregaran os valores de densidad acumulada\n",
    "s=0     ##Variablle de apoyyo para hacer la suma acumuada\n",
    "for x in Repeticiones:    \n",
    "    s+= x/len(f)       ##Se hace la suma acumulada\n",
    "    Densidad.append(s)   "
   ]
  },
  {
   "cell_type": "code",
   "execution_count": 110,
   "metadata": {},
   "outputs": [
    {
     "data": {
      "image/png": "[encoded data removed]",
      "text/plain": [
       "<Figure size 432x288 with 1 Axes>"
      ]
     },
     "metadata": {
      "needs_background": "light"
     },
     "output_type": "display_data"
    }
   ],
   "source": [
    "plt.step(Datos_sin_repetir, Densidad)    ###Densidad empirica\n",
    "plt.show()"
   ]
  },
  {
   "cell_type": "markdown",
   "metadata": {},
   "source": [
    "## 2."
   ]
  },
  {
   "cell_type": "code",
   "execution_count": 113,
   "metadata": {},
   "outputs": [
    {
     "name": "stdout",
     "output_type": "stream",
     "text": [
      "-0.4482490835838018\n"
     ]
    }
   ],
   "source": [
    "print(stats.kurtosis(califfisica))"
   ]
  },
  {
   "cell_type": "markdown",
   "metadata": {},
   "source": [
    "Como Curtois es menor que cero, entonces se tiene una distribución platicurtica"
   ]
  },
  {
   "cell_type": "code",
   "execution_count": null,
   "metadata": {},
   "outputs": [],
   "source": []
  }
 ],
 "metadata": {
  "kernelspec": {
   "display_name": "Python 3",
   "language": "python",
   "name": "python3"
  },
  "language_info": {
   "codemirror_mode": {
    "name": "ipython",
    "version": 3
   },
   "file_extension": ".py",
   "mimetype": "text/x-python",
   "name": "python",
   "nbconvert_exporter": "python",
   "pygments_lexer": "ipython3",
   "version": "3.7.6"
  }
 },
 "nbformat": 4,
 "nbformat_minor": 4
}
